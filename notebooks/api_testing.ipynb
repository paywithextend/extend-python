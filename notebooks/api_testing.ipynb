{
 "cells": [
  {
   "cell_type": "markdown",
   "metadata": {},
   "source": [
    "# Extend API Testing\n",
    "## This notebook is for testing the ExtendAPI client manually."
   ]
  },
  {
   "cell_type": "code",
   "execution_count": 1,
   "metadata": {},
   "outputs": [],
   "source": [
    "import asyncio\n",
    "import os\n",
    "from datetime import datetime, timedelta\n",
    "from extend import ExtendClient"
   ]
  },
  {
   "cell_type": "code",
   "execution_count": 2,
   "metadata": {},
   "outputs": [],
   "source": [
    "# Initialize the client\n",
    "api_key = os.getenv(\"EXTEND_API_KEY\")\n",
    "api_secret = os.getenv(\"EXTEND_API_SECRET\")\n",
    "client = ExtendClient(api_key, api_secret)"
   ]
  },
  {
   "cell_type": "code",
   "execution_count": null,
   "metadata": {},
   "outputs": [],
   "source": [
    "print(api_key)\n",
    "print(api_secret)\n"
   ]
  },
  {
   "cell_type": "code",
   "execution_count": null,
   "metadata": {},
   "outputs": [],
   "source": [
    "async def test_virtual_cards():\n",
    "    cards = await client.virtual_cards.get_virtual_cards()\n",
    "    print(\"Virtual Cards:\")\n",
    "    print(cards)\n",
    "    return cards\n",
    "\n",
    "await test_virtual_cards()"
   ]
  },
  {
   "cell_type": "code",
   "execution_count": null,
   "metadata": {},
   "outputs": [],
   "source": [
    "### Test Transactions API\n",
    "\n",
    "async def test_transactions():\n",
    "    txns = await client.transactions.get_transactions()\n",
    "    print(\"Transactions:\")\n",
    "    print(txns)\n",
    "    return txns\n",
    "\n",
    "await test_transactions()"
   ]
  },
  {
   "cell_type": "code",
   "execution_count": null,
   "metadata": {},
   "outputs": [],
   "source": [
    "async def test_virtual_card_lifecycle():\n",
    "    \"\"\"Test the full lifecycle of a virtual card\"\"\"\n",
    "    # Get the first available credit card\n",
    "    credit_cards = await client.credit_cards.get_credit_cards()\n",
    "    if not credit_cards.get(\"creditCards\"):\n",
    "        print(\"No credit cards available for testing\")\n",
    "        return\n",
    "    \n",
    "    credit_card = credit_cards[\"creditCards\"][0]\n",
    "    print(f\"Using credit card: {credit_card['id']}\")\n",
    "    \n",
    "    # Get test recipient and cardholder from environment\n",
    "    recipient = os.getenv(\"EXTEND_TEST_RECIPIENT\")\n",
    "    cardholder = os.getenv(\"EXTEND_TEST_CARDHOLDER\")\n",
    "    \n",
    "    # Calculate valid_to date (3 months from today)\n",
    "    valid_to = (datetime.now() + timedelta(days=90)).strftime(\"%Y-%m-%dT23:59:59.999Z\")\n",
    "    \n",
    "    # Create a virtual card\n",
    "    print(\"\\nCreating virtual card...\")\n",
    "    response = await client.virtual_cards.create_virtual_card(\n",
    "        credit_card_id=credit_card[\"id\"],\n",
    "        display_name=\"Notebook Test Card\",\n",
    "        balance_cents=5000,\n",
    "        notes=\"Created by notebook test\",\n",
    "        recurs=False,\n",
    "        recipient=recipient,\n",
    "        cardholder=cardholder,\n",
    "        valid_to=valid_to\n",
    "    )\n",
    "    \n",
    "    card = response[\"virtualCard\"]\n",
    "    print(f\"Created card: {card['id']}\")\n",
    "    print(f\"Status: {card['status']}\")\n",
    "    print(f\"Balance: ${card['balanceCents']/100:.2f}\")\n",
    "    \n",
    "    # Get the card details\n",
    "    print(\"\\nRetrieving card details...\")\n",
    "    get_response = await client.virtual_cards.get_virtual_card_detail(card[\"id\"])\n",
    "    print(f\"Retrieved card: {get_response['virtualCard']['id']}\")\n",
    "    \n",
    "    # Update the card\n",
    "    print(\"\\nUpdating card...\")\n",
    "    update_response = await client.virtual_cards.update_virtual_card(\n",
    "        card_id=card[\"id\"],\n",
    "        display_name=\"Updated Notebook Card\",\n",
    "        notes=\"Updated by notebook test\",\n",
    "        balance_cents=6000\n",
    "    )\n",
    "    print(f\"Updated card: {update_response['virtualCard']['id']}\")\n",
    "    print(f\"New balance: ${update_response['virtualCard']['balanceCents']/100:.2f}\")\n",
    "    \n",
    "    # Cancel the card\n",
    "    print(\"\\nCanceling card...\")\n",
    "    cancel_response = await client.virtual_cards.cancel_virtual_card(card[\"id\"])\n",
    "    print(f\"Card status after cancel: {cancel_response['virtualCard']['status']}\")\n",
    "    \n",
    "    # Close the card (cleanup)\n",
    "    print(\"\\nClosing card...\")\n",
    "    close_response = await client.virtual_cards.close_virtual_card(card[\"id\"])\n",
    "    print(f\"Final card status: {close_response['virtualCard']['status']}\")\n",
    "\n",
    "await test_virtual_card_lifecycle()"
   ]
  },
  {
   "cell_type": "code",
   "execution_count": null,
   "metadata": {},
   "outputs": [],
   "source": []
  }
 ],
 "metadata": {
  "kernelspec": {
   "display_name": "venv",
   "language": "python",
   "name": "python3"
  },
  "language_info": {
   "codemirror_mode": {
    "name": "ipython",
    "version": 3
   },
   "file_extension": ".py",
   "mimetype": "text/x-python",
   "name": "python",
   "nbconvert_exporter": "python",
   "pygments_lexer": "ipython3",
   "version": "3.13.1"
  }
 },
 "nbformat": 4,
 "nbformat_minor": 2
}
